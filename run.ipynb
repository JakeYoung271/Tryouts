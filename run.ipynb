{
 "cells": [
  {
   "cell_type": "code",
   "execution_count": 1,
   "metadata": {},
   "outputs": [],
   "source": [
    "from roster import Roster\n",
    "from tryoutsManager import TryoutsManager"
   ]
  },
  {
   "cell_type": "code",
   "execution_count": 2,
   "metadata": {},
   "outputs": [],
   "source": [
    "spikeroster = Roster().load_roster()\n",
    "manager = TryoutsManager(spikeroster)"
   ]
  },
  {
   "cell_type": "code",
   "execution_count": 3,
   "metadata": {},
   "outputs": [
    {
     "name": "stdout",
     "output_type": "stream",
     "text": [
      "[(1, 'Alex Stavnitser'), (2, 'Alyssa Cardenas'), (3, 'Cindy Gomboluudev'), (4, 'Edward Ke'), (5, 'Gavin McPherson'), (6, 'Jacob Sandler'), (7, 'Jake Young'), (8, 'Josh Oulashian'), (9, 'Luca Filiz'), (10, 'Mark Manuel'), (11, 'Paurush Pandey'), (12, 'Reece Yoshizawa'), (13, 'Ryan Kim'), (14, 'Sasha Spunt'), (15, 'Steven Pan')]\n"
     ]
    }
   ],
   "source": [
    "spikeroster.print_roster()"
   ]
  },
  {
   "cell_type": "code",
   "execution_count": 4,
   "metadata": {},
   "outputs": [
    {
     "name": "stdout",
     "output_type": "stream",
     "text": [
      "Player Alex Stavnitser with ID 1 already exists\n",
      "Player Alyssa Cardenas with ID 2 already exists\n",
      "Player Cindy Gomboluudev with ID 3 already exists\n",
      "Player Edward Ke with ID 4 already exists\n",
      "Player Gavin McPherson with ID 5 already exists\n",
      "Player Jacob Sandler with ID 6 already exists\n",
      "Player Jake Young with ID 7 already exists\n",
      "Player Josh Oulashian with ID 8 already exists\n",
      "Player Luca Filiz with ID 9 already exists\n",
      "Player Mark Manuel with ID 10 already exists\n",
      "Player Paurush Pandey with ID 11 already exists\n",
      "Player Reece Yoshizawa with ID 12 already exists\n",
      "Player Ryan Kim with ID 13 already exists\n",
      "Player Sasha Spunt with ID 14 already exists\n",
      "Player Steven Pan with ID 15 already exists\n"
     ]
    },
    {
     "data": {
      "text/plain": [
       "set()"
      ]
     },
     "execution_count": 4,
     "metadata": {},
     "output_type": "execute_result"
    }
   ],
   "source": [
    "manager.add_player(\"Alex Stavnitser\")\n",
    "manager.add_player(\"Alyssa Cardenas\")\n",
    "manager.add_player(\"Cindy Gomboluudev\")\n",
    "manager.add_player(\"Edward Ke\")\n",
    "manager.add_player(\"Gavin McPherson\")\n",
    "manager.add_player(\"Jacob Sandler\")\n",
    "manager.add_player(\"Jake Young\")\n",
    "manager.add_player(\"Josh Oulashian\")\n",
    "manager.add_player(\"Luca Filiz\")\n",
    "manager.add_player(\"Mark Manuel\")\n",
    "manager.add_player(\"Paurush Pandey\")\n",
    "manager.add_player(\"Reece Yoshizawa\")\n",
    "manager.add_player(\"Ryan Kim\")\n",
    "manager.add_player(\"Sasha Spunt\")\n",
    "manager.add_player(\"Steven Pan\")\n",
    "manager.active_players"
   ]
  },
  {
   "cell_type": "code",
   "execution_count": 5,
   "metadata": {},
   "outputs": [
    {
     "data": {
      "text/plain": [
       "{1: <player.Player at 0x2506ce82ab0>,\n",
       " 2: <player.Player at 0x2506ce814c0>,\n",
       " 3: <player.Player at 0x2506ce81970>,\n",
       " 4: <player.Player at 0x2506ce82840>,\n",
       " 5: <player.Player at 0x2506ce82c90>,\n",
       " 6: <player.Player at 0x2506ce82db0>,\n",
       " 7: <player.Player at 0x2506ce82d20>,\n",
       " 8: <player.Player at 0x2506ce82ff0>,\n",
       " 9: <player.Player at 0x2506ce83050>,\n",
       " 10: <player.Player at 0x2506ce830b0>,\n",
       " 11: <player.Player at 0x2506ce83110>,\n",
       " 12: <player.Player at 0x2506ce83170>,\n",
       " 13: <player.Player at 0x2506ce831d0>,\n",
       " 14: <player.Player at 0x2506ce83230>,\n",
       " 15: <player.Player at 0x2506ce83290>}"
      ]
     },
     "execution_count": 5,
     "metadata": {},
     "output_type": "execute_result"
    }
   ],
   "source": [
    "manager.mark_active(\"Alex Stavnitser\")\n",
    "manager.mark_active(\"Alyssa Cardenas\")\n",
    "manager.mark_active(\"Cindy Gomboluudev\")\n",
    "manager.mark_active(\"Edward Ke\")\n",
    "manager.mark_active(\"Gavin McPherson\")\n",
    "manager.mark_active(\"Jacob Sandler\")\n",
    "manager.mark_active(\"Jake Young\")\n",
    "manager.mark_active(\"Josh Oulashian\")\n",
    "manager.mark_active(\"Luca Filiz\")\n",
    "manager.mark_active(\"Mark Manuel\")\n",
    "manager.mark_active(\"Paurush Pandey\")\n",
    "manager.mark_active(\"Reece Yoshizawa\")\n",
    "manager.mark_active(\"Ryan Kim\")\n",
    "manager.mark_active(\"Sasha Spunt\")\n",
    "manager.mark_active(\"Steven Pan\")"
   ]
  },
  {
   "cell_type": "code",
   "execution_count": 6,
   "metadata": {},
   "outputs": [
    {
     "name": "stdout",
     "output_type": "stream",
     "text": [
      "Player 13 with name Ryan Kim marked as inactive.\n",
      "Player 4 with name Edward Ke marked as inactive.\n",
      "Player 15 with name Steven Pan marked as inactive.\n"
     ]
    }
   ],
   "source": [
    "manager.mark_inactive(\"Ryan Kim\")\n",
    "manager.mark_inactive(\"Edward Ke\")\n",
    "manager.mark_inactive(\"Steven Pan\")"
   ]
  },
  {
   "cell_type": "code",
   "execution_count": 11,
   "metadata": {},
   "outputs": [
    {
     "data": {
      "text/plain": [
       "set()"
      ]
     },
     "execution_count": 11,
     "metadata": {},
     "output_type": "execute_result"
    }
   ],
   "source": [
    "manager.list_active_players()\n",
    "manager.active_players"
   ]
  },
  {
   "cell_type": "code",
   "execution_count": 7,
   "metadata": {},
   "outputs": [],
   "source": [
    "# manager.create_pools()"
   ]
  },
  {
   "cell_type": "code",
   "execution_count": 8,
   "metadata": {},
   "outputs": [
    {
     "name": "stdout",
     "output_type": "stream",
     "text": [
      "[10, 6, 11, 3]\n",
      "{1: <player.Player object at 0x000001D86BBEDB20>, 2: <player.Player object at 0x000001D86CEE93A0>, 3: <player.Player object at 0x000001D86D081AF0>, 4: <player.Player object at 0x000001D86CF62F90>, 5: <player.Player object at 0x000001D86D081970>, 6: <player.Player object at 0x000001D86D083020>, 7: <player.Player object at 0x000001D86D083050>, 8: <player.Player object at 0x000001D86D082750>, 9: <player.Player object at 0x000001D86D0827B0>, 10: <player.Player object at 0x000001D86D0829C0>, 11: <player.Player object at 0x000001D86D082A20>, 12: <player.Player object at 0x000001D86D0821E0>, 13: <player.Player object at 0x000001D86D0802F0>, 14: <player.Player object at 0x000001D86D080170>, 15: <player.Player object at 0x000001D86D080140>}\n",
      "Player Mark Manuel is inactive.\n",
      "[7, 12, 1, 2]\n",
      "{1: <player.Player object at 0x000001D86BBEDB20>, 2: <player.Player object at 0x000001D86CEE93A0>, 3: <player.Player object at 0x000001D86D081AF0>, 4: <player.Player object at 0x000001D86CF62F90>, 5: <player.Player object at 0x000001D86D081970>, 6: <player.Player object at 0x000001D86D083020>, 7: <player.Player object at 0x000001D86D083050>, 8: <player.Player object at 0x000001D86D082750>, 9: <player.Player object at 0x000001D86D0827B0>, 10: <player.Player object at 0x000001D86D0829C0>, 11: <player.Player object at 0x000001D86D082A20>, 12: <player.Player object at 0x000001D86D0821E0>, 13: <player.Player object at 0x000001D86D0802F0>, 14: <player.Player object at 0x000001D86D080170>, 15: <player.Player object at 0x000001D86D080140>}\n",
      "Player Jake Young is inactive.\n",
      "[5, 9, 8, 14]\n",
      "{1: <player.Player object at 0x000001D86BBEDB20>, 2: <player.Player object at 0x000001D86CEE93A0>, 3: <player.Player object at 0x000001D86D081AF0>, 4: <player.Player object at 0x000001D86CF62F90>, 5: <player.Player object at 0x000001D86D081970>, 6: <player.Player object at 0x000001D86D083020>, 7: <player.Player object at 0x000001D86D083050>, 8: <player.Player object at 0x000001D86D082750>, 9: <player.Player object at 0x000001D86D0827B0>, 10: <player.Player object at 0x000001D86D0829C0>, 11: <player.Player object at 0x000001D86D082A20>, 12: <player.Player object at 0x000001D86D0821E0>, 13: <player.Player object at 0x000001D86D0802F0>, 14: <player.Player object at 0x000001D86D080170>, 15: <player.Player object at 0x000001D86D080140>}\n",
      "Player Gavin McPherson is inactive.\n"
     ]
    }
   ],
   "source": [
    "manager.create_manual_pool([\"Mark Manuel\", \"Jacob Sandler\", \"Paurush Pandey\", \"Cindy Gomboluudev\"])\n",
    "manager.create_manual_pool([7, 12, 1, 2])\n",
    "manager.create_manual_pool([5, 9, 8, 14])"
   ]
  },
  {
   "cell_type": "code",
   "execution_count": 9,
   "metadata": {},
   "outputs": [],
   "source": [
    "manager.print_pools()"
   ]
  },
  {
   "cell_type": "code",
   "execution_count": 10,
   "metadata": {},
   "outputs": [
    {
     "ename": "IndexError",
     "evalue": "list index out of range",
     "output_type": "error",
     "traceback": [
      "\u001b[1;31m---------------------------------------------------------------------------\u001b[0m",
      "\u001b[1;31mIndexError\u001b[0m                                Traceback (most recent call last)",
      "Cell \u001b[1;32mIn[10], line 1\u001b[0m\n\u001b[1;32m----> 1\u001b[0m \u001b[43mmanager\u001b[49m\u001b[38;5;241;43m.\u001b[39;49m\u001b[43minput_scores\u001b[49m\u001b[43m(\u001b[49m\u001b[38;5;241;43m0\u001b[39;49m\u001b[43m)\u001b[49m\n",
      "File \u001b[1;32mc:\\Users\\jaipa\\CS\\Tryouts\\tryoutsManager.py:158\u001b[0m, in \u001b[0;36mTryoutsManager.input_scores\u001b[1;34m(self, pool_index)\u001b[0m\n\u001b[0;32m    152\u001b[0m \u001b[38;5;28;01mdef\u001b[39;00m \u001b[38;5;21minput_scores\u001b[39m(\u001b[38;5;28mself\u001b[39m, pool_index) \u001b[38;5;241m-\u001b[39m\u001b[38;5;241m>\u001b[39m \u001b[38;5;28;01mNone\u001b[39;00m:\n\u001b[0;32m    153\u001b[0m \u001b[38;5;250m    \u001b[39m\u001b[38;5;124;03m\"\"\"\u001b[39;00m\n\u001b[0;32m    154\u001b[0m \u001b[38;5;124;03m    Inputs the scores for a specific pool and calculates the new ratings.\u001b[39;00m\n\u001b[0;32m    155\u001b[0m \u001b[38;5;124;03m    Scores are expected in the form:\u001b[39;00m\n\u001b[0;32m    156\u001b[0m \u001b[38;5;124;03m    [(team1_score, team2_score), (team1_score, team2_score), (team1_score, team2_score)]\u001b[39;00m\n\u001b[0;32m    157\u001b[0m \u001b[38;5;124;03m    \"\"\"\u001b[39;00m\n\u001b[1;32m--> 158\u001b[0m     player1, player2, player3, player4 \u001b[38;5;241m=\u001b[39m \u001b[38;5;28;43mself\u001b[39;49m\u001b[38;5;241;43m.\u001b[39;49m\u001b[43mcurrent_pools\u001b[49m\u001b[43m[\u001b[49m\u001b[43mpool_index\u001b[49m\u001b[43m]\u001b[49m\n\u001b[0;32m    159\u001b[0m     player1 \u001b[38;5;241m=\u001b[39m \u001b[38;5;28mself\u001b[39m\u001b[38;5;241m.\u001b[39mroster\u001b[38;5;241m.\u001b[39mget_player_by_id(player1)\n\u001b[0;32m    160\u001b[0m     player2 \u001b[38;5;241m=\u001b[39m \u001b[38;5;28mself\u001b[39m\u001b[38;5;241m.\u001b[39mroster\u001b[38;5;241m.\u001b[39mget_player_by_id(player2)\n",
      "\u001b[1;31mIndexError\u001b[0m: list index out of range"
     ]
    }
   ],
   "source": [
    "manager.input_scores(0)"
   ]
  }
 ],
 "metadata": {
  "kernelspec": {
   "display_name": "tryouts",
   "language": "python",
   "name": "python3"
  },
  "language_info": {
   "codemirror_mode": {
    "name": "ipython",
    "version": 3
   },
   "file_extension": ".py",
   "mimetype": "text/x-python",
   "name": "python",
   "nbconvert_exporter": "python",
   "pygments_lexer": "ipython3",
   "version": "3.12.6"
  }
 },
 "nbformat": 4,
 "nbformat_minor": 2
}
